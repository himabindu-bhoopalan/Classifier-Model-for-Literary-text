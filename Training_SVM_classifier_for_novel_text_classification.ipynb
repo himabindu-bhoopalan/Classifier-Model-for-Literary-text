{
  "nbformat": 4,
  "nbformat_minor": 0,
  "metadata": {
    "colab": {
      "provenance": []
    },
    "kernelspec": {
      "name": "python3",
      "display_name": "Python 3"
    },
    "language_info": {
      "name": "python"
    }
  },
  "cells": [
    {
      "cell_type": "markdown",
      "source": [
        "## Introduction: Literary Text Classification using SVM\n",
        "\n",
        "This project builds a **text classifier** that maps user queries to one of **11 English literary classics**, such as _Pride and Prejudice_, _Frankenstein_, and _The Great Gatsby_. It is part of a larger project designed to reduce hallucinations in LLM-based question answering by routing queries to the correct knowledge base using document classification.\n",
        "\n",
        "The current model classifies queries or document segments into the following books:\n",
        "\n",
        "- _Alice’s Adventures in Wonderland_\n",
        "- _Little Women_\n",
        "- _Sherlock Holmes_\n",
        "- _The Adventures of Tom Sawyer_\n",
        "- _Pride and Prejudice_\n",
        "- _Anne of Green Gables_\n",
        "- _Oliver Twist_\n",
        "- _Frankenstein_\n",
        "- _The Importance of Being Earnest_\n",
        "- _Great Expectations_\n",
        "- _The Great Gatsby_\n",
        "\n",
        "## Project Purpose :\n",
        "\n",
        "This text classification module is a **subcomponent of a Retrieval-Augmented Generation (RAG) system**, aimed at:\n",
        "\n",
        "- Improving response accuracy by guiding the user’s query to the correct corpus\n",
        "- Enabling LLMs to generate grounded answers using a verified source (also being able to show the source of text in a book)\n",
        "\n",
        "\n",
        "## Model Choice:  SVM\n",
        "Initially, the system used zero-shot and few-shot classification with general-purpose LLMs. However, these models showed inconsistent results with unseen or stylistic queries.\n",
        "\n",
        "- Support Vector Machines (SVMs) were adopted due to their:\n",
        "\n",
        "- Effectiveness in high-dimensional spaces (TF-IDF vectors)\n",
        "\n",
        "- Robustness on small- to medium-sized datasets\n",
        "\n",
        "- Strong generalization when tuned properly\n",
        "\n",
        "\n",
        "## Tools and Libraries Used:\n",
        "Python Libraries: sklearn, nltk, spacy, pandas, matplotlib, joblib\n",
        "\n",
        "- NLP Preprocessing: Lemmatization, stopword removal, Named Entity Recognition (NER)\n",
        "\n",
        "- Text Representation: TF-IDF Vectorizer (with n-grams)\n",
        "\n",
        "- Classifier: sklearn.svm.SVC (Support Vector Machine with linear kernel)\n",
        "\n",
        "- Evaluation: Accuracy, Classification Report, Confusion Matrix, t-SNE\n",
        "\n",
        "- Future Stack: The full RAG system is expected to integrate embeddings, LLMs, Prompt Engineering, and a React-based UI.\n",
        "\n",
        "\n",
        "## Project Workflow:\n",
        "\n",
        "Below steps describe the steps of usual training of semantic/supervised classification tasks/model training.\n",
        "\n",
        "- Data Extraction: Load and extract 11 classic books in .txt format\n",
        "\n",
        "- Preprocessing: Tokenization, lemmatization, NER-based boosting\n",
        "\n",
        "- Chunking: Books split into consistent-length passages for classification\n",
        "\n",
        "- Vectorization: TF-IDF applied over preprocessed text chunks\n",
        "\n",
        "- Modeling: SVM classifier trained and evaluated\n",
        "\n",
        "- Inference: Given a user query, predict the most relevant book\n",
        "\n",
        "- Export: Model saved as .pkl for future use or integration\n",
        "\n"
      ],
      "metadata": {
        "id": "xe10Ijsrf2hY"
      }
    },
    {
      "cell_type": "code",
      "execution_count": null,
      "metadata": {
        "id": "2Sd4UxBZrG52",
        "colab": {
          "base_uri": "https://localhost:8080/"
        },
        "outputId": "5e20c707-60b6-439d-802a-99eca9e23eef"
      },
      "outputs": [
        {
          "output_type": "stream",
          "name": "stderr",
          "text": [
            "[nltk_data] Downloading package wordnet to /root/nltk_data...\n",
            "[nltk_data]   Package wordnet is already up-to-date!\n",
            "[nltk_data] Downloading package stopwords to /root/nltk_data...\n",
            "[nltk_data]   Package stopwords is already up-to-date!\n"
          ]
        }
      ],
      "source": [
        "#Importing Packages\n",
        "import os\n",
        "import numpy as np\n",
        "import nltk\n",
        "from nltk.corpus import stopwords\n",
        "from nltk.tokenize import word_tokenize\n",
        "from nltk.stem import WordNetLemmatizer\n",
        "from sklearn.feature_extraction.text import TfidfVectorizer\n",
        "from sklearn.svm import SVC\n",
        "from sklearn.model_selection import train_test_split\n",
        "from sklearn.metrics import classification_report, accuracy_score\n",
        "\n",
        "# Download necessary NLTK resources\n",
        "nltk.download('wordnet')\n",
        "nltk.download('stopwords')\n",
        "nltk.download('punkt_tab')\n",
        "\n",
        "# Initialize lemmatizer and stopwords\n",
        "lemmatizer = WordNetLemmatizer()\n",
        "stop_words = set(stopwords.words('english'))"
      ]
    },
    {
      "cell_type": "code",
      "source": [
        "#Data Preprocessing\n",
        "\n",
        "import zipfile\n",
        "import re\n",
        "import spacy\n",
        "\n",
        "#Spacy model loaded to help with name boosting the novel characters and places\n",
        "# Load the English language model\n",
        "nlp = spacy.load(\"en_core_web_sm\")\n",
        "\n",
        "def ner_boost(text, boost_factor=3):\n",
        "    \"\"\"\n",
        "    Boost named entities in the input text by repeating them.\n",
        "    This is to increase their weight during TF-IDF vectorization.\n",
        "    \"\"\"\n",
        "    doc = nlp(text)\n",
        "    entities = [ent.text for ent in doc.ents if ent.label_ in (\"PERSON\", \"GPE\", \"ORG\")]\n",
        "\n",
        "    # Repeat each entity `boost_factor` times\n",
        "    for ent in entities:\n",
        "        text += (\" \" + ent) * (boost_factor - 1)  # already appears once\n",
        "    return text\n",
        "\n",
        "# Function to preprocess text (lemmatization + stopword removal)\n",
        "def preprocess_text(text):\n",
        "    text = text.lower()  # Convert to lowercase\n",
        "    tokens = word_tokenize(text)  # Tokenize\n",
        "    processed_tokens = [\n",
        "        lemmatizer.lemmatize(word) for word in tokens if word.isalpha() and word not in stop_words\n",
        "    ]\n",
        "    return \" \".join(processed_tokens)  # Join back to string\n",
        "\n",
        "# Function to extract ZIP file\n",
        "def extract_zip(zip_path, extract_to=\"extracted_files\"):\n",
        "    with zipfile.ZipFile(zip_path, 'r') as zip_ref:\n",
        "        zip_ref.extractall(extract_to)\n",
        "    print(f\"Books extracted to {extract_to}\")\n",
        "\n",
        "# Function to split text into chunks\n",
        "def split_text_into_chunks(text, words_per_chunk=1000):\n",
        "    words = text.split()\n",
        "    return [' '.join(words[i:i+words_per_chunk]) for i in range(0, len(words), words_per_chunk)]\n",
        "\n",
        "\n",
        "# Extract books\n",
        "zip_path = \"chatbot_books.zip\"\n",
        "books_dir = \"extracted_files\"\n",
        "extract_zip(zip_path, books_dir)\n",
        "\n",
        "# Load book texts\n",
        "texts, labels = [], []\n",
        "label_to_book = {}\n",
        "\n",
        "\n",
        "def process_books(file_directory):\n",
        "    dir_list = os.listdir(file_directory)\n",
        "    for book_file in dir_list:\n",
        "        if book_file.endswith('.txt'):\n",
        "            print(f\"Processing book: {book_file}\")\n",
        "            full_path = os.path.join(file_directory, book_file)\n",
        "            label_to_book[len(label_to_book)] = book_file.replace(\".txt\", \"\")\n",
        "\n",
        "            with open(full_path, 'r', encoding='utf-8', errors='ignore') as file:\n",
        "                content = file.read()\n",
        "                content = preprocess_text(content)  # Apply preprocessing\n",
        "                chunks = split_text_into_chunks(content)\n",
        "                texts.extend(chunks)\n",
        "                labels.extend([len(label_to_book) - 1] * len(chunks))  # Assign label based on order\n",
        "\n",
        "process_books(\"extracted_files/chatbot_books\")\n",
        "\n",
        "# Boosting character, locations etc. using NER\n",
        "texts= [ner_boost(t) for t in texts]\n"
      ],
      "metadata": {
        "id": "RvP_5pthvER8"
      },
      "execution_count": null,
      "outputs": []
    },
    {
      "cell_type": "code",
      "source": [
        "print(f\"Number of texts: {len(texts)}\")\n",
        "print(f\"Number of labels: {len(labels)}\")"
      ],
      "metadata": {
        "id": "pHcmV1cnHc8J",
        "colab": {
          "base_uri": "https://localhost:8080/"
        },
        "outputId": "dd03e955-e6dd-4900-d356-f4ccea58fc3b"
      },
      "execution_count": null,
      "outputs": [
        {
          "output_type": "stream",
          "name": "stdout",
          "text": [
            "Number of texts: 283\n",
            "Number of labels: 283\n"
          ]
        }
      ]
    },
    {
      "cell_type": "code",
      "source": [
        "#Creating the Dataset for training the SVM Model\n",
        "import pandas as pd\n",
        "\n",
        "# Define the file name\n",
        "csv_filename = \"texts_labels.csv\"\n",
        "\n",
        "# Create a DataFrame\n",
        "df = pd.DataFrame({\"Text\": texts, \"Label\": labels})\n",
        "\n",
        "#print rows and labels\n",
        "print(df.head())\n",
        "\n",
        "# Append data to the CSV file (or create it if it doesn't exist)\n",
        "df.to_csv(csv_filename, index=False, mode=\"a\", header=not os.path.exists(csv_filename))"
      ],
      "metadata": {
        "id": "ZiuDWz0rWNjt",
        "colab": {
          "base_uri": "https://localhost:8080/"
        },
        "outputId": "c6428a1e-c523-463a-98c1-0f74c39106ac"
      },
      "execution_count": null,
      "outputs": [
        {
          "output_type": "stream",
          "name": "stdout",
          "text": [
            "                                                Text  Label\n",
            "0  project gutenberg ebook alice adventure wonder...      0\n",
            "1  small one choked patted back however last sat ...      0\n",
            "2  everything within reach duchess baby came firs...      0\n",
            "3  alice dear said sister long sleep oh curious d...      0\n",
            "4  including make donation project gutenberg lite...      0\n"
          ]
        }
      ]
    },
    {
      "cell_type": "markdown",
      "source": [
        "## Data Visualisation:\n",
        "\n",
        "- To explore the data present in the corpus, we will try to plot the length of chunks.\n",
        "\n",
        "- As we can see from below histogram , because of unequal lengths of the corpus , we can expect because the samples are low, lower accuracy for corpus with lower chunks.\n",
        "\n",
        "- We could appropriately divide the test and training samples so that we can train the model in that ratio instead of randomly dividing the chunks of text.\n",
        "\n"
      ],
      "metadata": {
        "id": "g8ZPmOWTC85h"
      }
    },
    {
      "cell_type": "code",
      "source": [
        "import matplotlib.pyplot as plt\n",
        "import seaborn as sns\n",
        "import pandas as pd\n",
        "import matplotlib.pyplot as plt\n",
        "# Create a DataFrame with texts and labels\n",
        "df = pd.DataFrame({\"Text\": texts, \"Label\": labels})\n",
        "\n",
        "\n",
        "# Display count number of chunks per label\n",
        "label_counts = pd.Series(labels).value_counts().sort_index()\n",
        "book_names = [label_to_book[i] for i in label_counts.index]\n",
        "\n",
        "plt.figure(figsize=(8, 4))\n",
        "sns.barplot(x=book_names, y=label_counts.values)\n",
        "plt.xticks(rotation=45, ha='right')\n",
        "plt.ylabel(\"Number of Chunks\")\n",
        "plt.title(\"Number of Text Chunks per Book\")\n",
        "plt.tight_layout()\n",
        "plt.show()\n",
        "\n",
        "\n",
        "# Calculate word count for each chunk\n",
        "chunk_lengths = [len(text.split()) for text in texts]\n",
        "\n",
        "plt.figure(figsize=(8, 4))\n",
        "sns.histplot(chunk_lengths, bins=30, kde=True)\n",
        "plt.xlabel(\"Words per Chunk\")\n",
        "plt.ylabel(\"Frequency\")\n",
        "plt.title(\"Distribution of Chunk Word Counts\")\n",
        "plt.tight_layout()\n",
        "plt.show()"
      ],
      "metadata": {
        "colab": {
          "base_uri": "https://localhost:8080/",
          "height": 797
        },
        "id": "T59HE9u3Em5o",
        "outputId": "659adcd2-65be-4564-da26-6e2e22b39626"
      },
      "execution_count": null,
      "outputs": [
        {
          "output_type": "display_data",
          "data": {
            "text/plain": [
              "<Figure size 800x400 with 1 Axes>"
            ],
            "image/png": "[encoded data removed]"
          },
          "metadata": {}
        },
        {
          "output_type": "display_data",
          "data": {
            "text/plain": [
              "<Figure size 800x400 with 1 Axes>"
            ],
            "image/png": "[encoded data removed]"
          },
          "metadata": {}
        }
      ]
    },
    {
      "cell_type": "code",
      "source": [
        "#Model Training and Evaluation\n",
        "#Train/Test Split\n",
        "X_train, X_test, y_train, y_test = train_test_split(texts, labels, test_size=0.2, stratify=labels, random_state=42)\n",
        "\n",
        "# Vectorize text using TF-IDF (with stopword removal handled manually)\n",
        "vectorizer = TfidfVectorizer(ngram_range=(1, 2))# n-grams to make sense of bigrams-\"great gatsby, New York etc\"\n",
        "X_train_tfidf = vectorizer.fit_transform(X_train)\n",
        "X_test_tfidf = vectorizer.transform(X_test)\n",
        "\n",
        "# Train SVM Classifier\n",
        "svm_classifier = SVC(kernel='linear')\n",
        "svm_classifier.fit(X_train_tfidf, y_train)\n",
        "\n",
        "# Evaluate Model\n",
        "y_pred = svm_classifier.predict(X_test_tfidf)\n",
        "print(\"Accuracy:\", accuracy_score(y_test, y_pred))\n",
        "print(\"Classification Report:\\n\", classification_report(y_test, y_pred))"
      ],
      "metadata": {
        "id": "Bq8gLl0FuWoX",
        "colab": {
          "base_uri": "https://localhost:8080/"
        },
        "outputId": "be8c4637-755a-4373-8461-c68d24093813"
      },
      "execution_count": null,
      "outputs": [
        {
          "output_type": "stream",
          "name": "stdout",
          "text": [
            "Accuracy: 0.9298245614035088\n",
            "Classification Report:\n",
            "               precision    recall  f1-score   support\n",
            "\n",
            "           0       0.00      0.00      0.00         1\n",
            "           1       1.00      1.00      1.00        12\n",
            "           2       1.00      1.00      1.00         6\n",
            "           3       1.00      0.80      0.89         5\n",
            "           4       1.00      0.50      0.67         2\n",
            "           5       1.00      1.00      1.00         7\n",
            "           6       1.00      1.00      1.00         4\n",
            "           7       1.00      0.80      0.89         5\n",
            "           8       1.00      1.00      1.00         1\n",
            "           9       0.73      1.00      0.85        11\n",
            "          10       1.00      1.00      1.00         3\n",
            "\n",
            "    accuracy                           0.93        57\n",
            "   macro avg       0.88      0.83      0.84        57\n",
            "weighted avg       0.93      0.93      0.92        57\n",
            "\n"
          ]
        },
        {
          "output_type": "stream",
          "name": "stderr",
          "text": [
            "/usr/local/lib/python3.11/dist-packages/sklearn/metrics/_classification.py:1565: UndefinedMetricWarning: Precision is ill-defined and being set to 0.0 in labels with no predicted samples. Use `zero_division` parameter to control this behavior.\n",
            "  _warn_prf(average, modifier, f\"{metric.capitalize()} is\", len(result))\n",
            "/usr/local/lib/python3.11/dist-packages/sklearn/metrics/_classification.py:1565: UndefinedMetricWarning: Precision is ill-defined and being set to 0.0 in labels with no predicted samples. Use `zero_division` parameter to control this behavior.\n",
            "  _warn_prf(average, modifier, f\"{metric.capitalize()} is\", len(result))\n",
            "/usr/local/lib/python3.11/dist-packages/sklearn/metrics/_classification.py:1565: UndefinedMetricWarning: Precision is ill-defined and being set to 0.0 in labels with no predicted samples. Use `zero_division` parameter to control this behavior.\n",
            "  _warn_prf(average, modifier, f\"{metric.capitalize()} is\", len(result))\n"
          ]
        }
      ]
    },
    {
      "cell_type": "markdown",
      "source": [
        "## Key Metrics and Model Evaluation:\n",
        "\n",
        "### Precision\n",
        "\n",
        "Precision = TP / (TP + FP)\n",
        "\n",
        "The proportion of true positive predictions out of all predicted positives.\n",
        "\n",
        "How many times was the model correct when it said something belonged to a class?\n",
        "\n",
        "### Recall\n",
        "\n",
        "Recall = TP / (TP + FN)\n",
        "\n",
        "The proportion of actual positives that were correctly identified.\n",
        "\n",
        "How many times did the model correctly identify a class out of all actual instances?\n",
        "\n",
        "### F1-Score :\n",
        "\n",
        "F1-Score = 2 × (Precision × Recall) / (Precision + Recall)\n",
        "\n",
        "Harmonic mean of precision and recall, balancing both metrics.\n",
        "\n",
        "Best when both precision and recall are equally important.\n",
        "\n",
        "### Support :\n",
        "\n",
        "Number of actual occurrences of each class in the dataset."
      ],
      "metadata": {
        "id": "Y1U1LJYpILwH"
      }
    },
    {
      "cell_type": "code",
      "source": [
        "# Function to predict the book based on a query\n",
        "def predict_book(query):\n",
        "    query = preprocess_text(query)  # Preprocess query\n",
        "    query_tfidf = vectorizer.transform([query])\n",
        "    prediction = svm_classifier.predict(query_tfidf)[0]\n",
        "    return label_to_book.get(prediction, \"Unknown Book\")"
      ],
      "metadata": {
        "id": "8LLeLqYE6Z_5"
      },
      "execution_count": null,
      "outputs": []
    },
    {
      "cell_type": "code",
      "source": [
        "# checking the model performance with random new queries\n",
        "book_questions = {\n",
        "    \"Pride and Prejudice\": [\n",
        "        \"How does Elizabeth Bennet's opinion of Mr. Darcy change throughout the novel?\",\n",
        "        \"What role does social class play in Elizabeth and Darcy's relationship?\"\n",
        "    ],\n",
        "    \"Oliver Twist\": [\n",
        "        \"How does Oliver end up in Fagin’s gang?\",\n",
        "        \"What is the significance of Nancy’s actions in the novel?\"\n",
        "    ],\n",
        "    \"The Great Gatsby\": [\n",
        "        \"What is the significance of the green light at the end of Daisy’s dock?\",\n",
        "        \"How does Jay Gatsby accumulate his wealth?\"\n",
        "    ],\n",
        "    \"Frankenstein\": [\n",
        "        \"Why does Victor Frankenstein regret creating the monster?\",\n",
        "        \"How does the monster learn about human nature?\"\n",
        "    ],\n",
        "    \"The Adventures of Tom Sawyer\": [\n",
        "        \"How does Tom trick other boys into painting the fence for him?\",\n",
        "        \"What happens when Tom and Huck witness a crime in the graveyard?\"\n",
        "    ],\n",
        "    \"Sherlock Holmes\": [\n",
        "        \"How does Sherlock Holmes use deduction to solve crimes?\",\n",
        "        \"Who is Professor Moriarty, and what is his role in Holmes' life?\"\n",
        "    ],\n",
        "    \"Great Expectations\": [\n",
        "        \"How does Pip’s life change after receiving a mysterious fortune?\",\n",
        "        \"What is the significance of Miss Havisham’s decaying wedding dress?\"\n",
        "    ],\n",
        "    \"Anne of Green Gables\": [\n",
        "        \"How does Anne Shirley come to live with Matthew and Marilla Cuthbert?\",\n",
        "        \"What mishap does Anne have with her hair dye?\"\n",
        "    ],\n",
        "    \"The Importance of Being Earnest\": [\n",
        "        \"What is the meaning behind the phrase 'Bunburying'?\",\n",
        "        \"How does Jack Worthing’s real identity impact the story?\"\n",
        "    ],\n",
        "    \"Alice’s Adventures in Wonderland\": [\n",
        "        \"How does Alice enter Wonderland?\",\n",
        "        \"What are the rules of the Mad Hatter’s tea party?\"\n",
        "    ],\n",
        "    \"Little Women\": [\n",
        "        \"How do the March sisters cope with their father being away at war?\",\n",
        "        \"Why does Jo March refuse Laurie’s proposal?\"\n",
        "    ],\n",
        "    \"Little Women\": [\n",
        "        \"How do the March sisters cope with their father being away at war?\",\n",
        "        \"Why does Jo March refuse Laurie’s proposal?\"\n",
        "    ]\n",
        "}\n",
        "\n",
        "\n",
        "for book, questions in book_questions.items():\n",
        "    for query in questions:\n",
        "        boosted_query = ner_boost(query)\n",
        "        predicted_book = predict_book(boosted_query)\n",
        "\n",
        "        print(f\"Query: {query}\")\n",
        "        print(f\"Predicted Book: {predicted_book}\\n\")"
      ],
      "metadata": {
        "id": "aV3gzK_xJld_",
        "colab": {
          "base_uri": "https://localhost:8080/"
        },
        "outputId": "e2f2b0bb-b593-47dc-b889-4654214a2058"
      },
      "execution_count": null,
      "outputs": [
        {
          "output_type": "stream",
          "name": "stdout",
          "text": [
            "Query: How does Elizabeth Bennet's opinion of Mr. Darcy change throughout the novel?\n",
            "Predicted Book: pride_and_prejudice\n",
            "\n",
            "Query: What role does social class play in Elizabeth and Darcy's relationship?\n",
            "Predicted Book: pride_and_prejudice\n",
            "\n",
            "Query: How does Oliver end up in Fagin’s gang?\n",
            "Predicted Book: oliver_twist\n",
            "\n",
            "Query: What is the significance of Nancy’s actions in the novel?\n",
            "Predicted Book: great_expectations\n",
            "\n",
            "Query: What is the significance of the green light at the end of Daisy’s dock?\n",
            "Predicted Book: the_great_gatsby\n",
            "\n",
            "Query: How does Jay Gatsby accumulate his wealth?\n",
            "Predicted Book: the_great_gatsby\n",
            "\n",
            "Query: Why does Victor Frankenstein regret creating the monster?\n",
            "Predicted Book: frankenstein\n",
            "\n",
            "Query: How does the monster learn about human nature?\n",
            "Predicted Book: frankenstein\n",
            "\n",
            "Query: How does Tom trick other boys into painting the fence for him?\n",
            "Predicted Book: adventures_of_tom_sawyer\n",
            "\n",
            "Query: What happens when Tom and Huck witness a crime in the graveyard?\n",
            "Predicted Book: adventures_of_tom_sawyer\n",
            "\n",
            "Query: How does Sherlock Holmes use deduction to solve crimes?\n",
            "Predicted Book: sherlock_holmes\n",
            "\n",
            "Query: Who is Professor Moriarty, and what is his role in Holmes' life?\n",
            "Predicted Book: sherlock_holmes\n",
            "\n",
            "Query: How does Pip’s life change after receiving a mysterious fortune?\n",
            "Predicted Book: great_expectations\n",
            "\n",
            "Query: What is the significance of Miss Havisham’s decaying wedding dress?\n",
            "Predicted Book: great_expectations\n",
            "\n",
            "Query: How does Anne Shirley come to live with Matthew and Marilla Cuthbert?\n",
            "Predicted Book: anne_of_green_gables\n",
            "\n",
            "Query: What mishap does Anne have with her hair dye?\n",
            "Predicted Book: anne_of_green_gables\n",
            "\n",
            "Query: What is the meaning behind the phrase 'Bunburying'?\n",
            "Predicted Book: great_expectations\n",
            "\n",
            "Query: How does Jack Worthing’s real identity impact the story?\n",
            "Predicted Book: great_expectations\n",
            "\n",
            "Query: How does Alice enter Wonderland?\n",
            "Predicted Book: great_expectations\n",
            "\n",
            "Query: What are the rules of the Mad Hatter’s tea party?\n",
            "Predicted Book: great_expectations\n",
            "\n",
            "Query: How do the March sisters cope with their father being away at war?\n",
            "Predicted Book: great_expectations\n",
            "\n",
            "Query: Why does Jo March refuse Laurie’s proposal?\n",
            "Predicted Book: little_women\n",
            "\n"
          ]
        }
      ]
    },
    {
      "cell_type": "code",
      "source": [
        "#download the pickle file of the model\n",
        "import joblib\n",
        "from google.colab import files\n",
        "\n",
        "# Save the trained model to a file using joblib\n",
        "joblib.dump(svm_classifier, 'svm_model.pkl')\n",
        "\n",
        "# Download the model file\n",
        "files.download('svm_model.pkl')"
      ],
      "metadata": {
        "id": "mbzzcsfqVeyB",
        "colab": {
          "base_uri": "https://localhost:8080/",
          "height": 17
        },
        "outputId": "d6d302cc-391d-434d-cbeb-0f705d04e440"
      },
      "execution_count": null,
      "outputs": [
        {
          "output_type": "display_data",
          "data": {
            "text/plain": [
              "<IPython.core.display.Javascript object>"
            ],
            "application/javascript": [
              "\n",
              "    async function download(id, filename, size) {\n",
              "      if (!google.colab.kernel.accessAllowed) {\n",
              "        return;\n",
              "      }\n",
              "      const div = document.createElement('div');\n",
              "      const label = document.createElement('label');\n",
              "      label.textContent = `Downloading \"${filename}\": `;\n",
              "      div.appendChild(label);\n",
              "      const progress = document.createElement('progress');\n",
              "      progress.max = size;\n",
              "      div.appendChild(progress);\n",
              "      document.body.appendChild(div);\n",
              "\n",
              "      const buffers = [];\n",
              "      let downloaded = 0;\n",
              "\n",
              "      const channel = await google.colab.kernel.comms.open(id);\n",
              "      // Send a message to notify the kernel that we're ready.\n",
              "      channel.send({})\n",
              "\n",
              "      for await (const message of channel.messages) {\n",
              "        // Send a message to notify the kernel that we're ready.\n",
              "        channel.send({})\n",
              "        if (message.buffers) {\n",
              "          for (const buffer of message.buffers) {\n",
              "            buffers.push(buffer);\n",
              "            downloaded += buffer.byteLength;\n",
              "            progress.value = downloaded;\n",
              "          }\n",
              "        }\n",
              "      }\n",
              "      const blob = new Blob(buffers, {type: 'application/binary'});\n",
              "      const a = document.createElement('a');\n",
              "      a.href = window.URL.createObjectURL(blob);\n",
              "      a.download = filename;\n",
              "      div.appendChild(a);\n",
              "      a.click();\n",
              "      div.remove();\n",
              "    }\n",
              "  "
            ]
          },
          "metadata": {}
        },
        {
          "output_type": "display_data",
          "data": {
            "text/plain": [
              "<IPython.core.display.Javascript object>"
            ],
            "application/javascript": [
              "download(\"download_48440c46-fe8a-439b-b03a-841fcac9a466\", \"svm_model.pkl\", 5629827)"
            ]
          },
          "metadata": {}
        }
      ]
    },
    {
      "cell_type": "markdown",
      "source": [
        "## Future Enhancements: 🇰\n",
        "\n",
        "- To build a pipeline to improve model to answer complex queries, pipeline to continously train newer question types and add corpus to the model."
      ],
      "metadata": {
        "id": "DGUDwynHBpvb"
      }
    }
  ]
}